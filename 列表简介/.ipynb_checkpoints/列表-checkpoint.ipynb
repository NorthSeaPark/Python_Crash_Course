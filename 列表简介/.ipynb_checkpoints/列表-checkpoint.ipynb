{
 "cells": [
  {
   "cell_type": "markdown",
   "id": "47d08723",
   "metadata": {},
   "source": [
    "<b>列表是有序集合： [ ]"
   ]
  },
  {
   "cell_type": "code",
   "execution_count": 4,
   "id": "3080bf46",
   "metadata": {},
   "outputs": [
    {
     "data": {
      "text/plain": [
       "['Charlie', 'Bob', 'Lily']"
      ]
     },
     "execution_count": 4,
     "metadata": {},
     "output_type": "execute_result"
    }
   ],
   "source": [
    "#添加元素\n",
    "names = ['Charlie', 'Bob']\n",
    "names.append('Lily')\n",
    "names"
   ]
  },
  {
   "cell_type": "code",
   "execution_count": 5,
   "id": "b3608a78",
   "metadata": {},
   "outputs": [
    {
     "data": {
      "text/plain": [
       "['Charlie', 'Wenqi', 'Bob', 'Lily']"
      ]
     },
     "execution_count": 5,
     "metadata": {},
     "output_type": "execute_result"
    }
   ],
   "source": [
    "#插入元素\n",
    "names.insert(1, 'Wenqi')\n",
    "names"
   ]
  },
  {
   "cell_type": "code",
   "execution_count": 6,
   "id": "ba03d380",
   "metadata": {},
   "outputs": [
    {
     "name": "stdout",
     "output_type": "stream",
     "text": [
      "['Charlie', 'Bob', 'Lily']\n"
     ]
    }
   ],
   "source": [
    "#删除元素 del\n",
    "del names[1]\n",
    "print(names)"
   ]
  },
  {
   "cell_type": "code",
   "execution_count": 7,
   "id": "6625dca6",
   "metadata": {},
   "outputs": [
    {
     "name": "stdout",
     "output_type": "stream",
     "text": [
      "Lily\n",
      "['Charlie', 'Bob']\n"
     ]
    }
   ],
   "source": [
    "# pop() Last in First Out\n",
    "popped_person = names.pop()\n",
    "print(popped_person)\n",
    "print(names)"
   ]
  },
  {
   "cell_type": "code",
   "execution_count": 9,
   "id": "97e4169e",
   "metadata": {},
   "outputs": [
    {
     "name": "stdout",
     "output_type": "stream",
     "text": [
      "Bob\n",
      "['Charlie', 'Wenqi', 'Lily']\n"
     ]
    }
   ],
   "source": [
    "# 使用索引进行pop\n",
    "names = ['Charlie', 'Wenqi', 'Bob', 'Lily']\n",
    "popped_person = names.pop(2)\n",
    "print(popped_person)\n",
    "print(names)"
   ]
  },
  {
   "cell_type": "code",
   "execution_count": 10,
   "id": "5b9029f5",
   "metadata": {},
   "outputs": [
    {
     "name": "stdout",
     "output_type": "stream",
     "text": [
      "['Charlie', 'Lily']\n"
     ]
    }
   ],
   "source": [
    "# remove() 根据值删除, remove只删除第一个指定的值，要删除其他重复的值，需要用循环的方法\n",
    "names.remove('Wenqi')\n",
    "print(names)"
   ]
  },
  {
   "cell_type": "code",
   "execution_count": null,
   "id": "813672c2",
   "metadata": {},
   "outputs": [],
   "source": []
  }
 ],
 "metadata": {
  "kernelspec": {
   "display_name": "Python 3",
   "language": "python",
   "name": "python3"
  },
  "language_info": {
   "codemirror_mode": {
    "name": "ipython",
    "version": 3
   },
   "file_extension": ".py",
   "mimetype": "text/x-python",
   "name": "python",
   "nbconvert_exporter": "python",
   "pygments_lexer": "ipython3",
   "version": "3.8.8"
  }
 },
 "nbformat": 4,
 "nbformat_minor": 5
}
