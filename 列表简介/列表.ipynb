{
 "cells": [
  {
   "cell_type": "markdown",
   "id": "46c889d3",
   "metadata": {},
   "source": [
    "<b>列表是有序集合： [ ]"
   ]
  },
  {
   "cell_type": "code",
   "execution_count": 1,
   "id": "1a2eb68b",
   "metadata": {},
   "outputs": [
    {
     "data": {
      "text/plain": [
       "['Charlie', 'Bob', 'Lily']"
      ]
     },
     "execution_count": 1,
     "metadata": {},
     "output_type": "execute_result"
    }
   ],
   "source": [
    "#添加元素\n",
    "names = ['Charlie', 'Bob']\n",
    "names.append('Lily')\n",
    "names"
   ]
  },
  {
   "cell_type": "code",
   "execution_count": null,
   "id": "48ef655b",
   "metadata": {},
   "outputs": [],
   "source": [
    "#插入元素\n"
   ]
  }
 ],
 "metadata": {
  "kernelspec": {
   "display_name": "Python 3",
   "language": "python",
   "name": "python3"
  },
  "language_info": {
   "codemirror_mode": {
    "name": "ipython",
    "version": 3
   },
   "file_extension": ".py",
   "mimetype": "text/x-python",
   "name": "python",
   "nbconvert_exporter": "python",
   "pygments_lexer": "ipython3",
   "version": "3.8.8"
  }
 },
 "nbformat": 4,
 "nbformat_minor": 5
}
