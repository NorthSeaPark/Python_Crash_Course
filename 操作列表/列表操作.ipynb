{
 "cells": [
  {
   "cell_type": "code",
   "execution_count": 1,
   "id": "9829ac9c",
   "metadata": {},
   "outputs": [
    {
     "name": "stdout",
     "output_type": "stream",
     "text": [
      "Sue, I love you\n",
      "Margie, I love you\n",
      "Lily, I love you\n"
     ]
    }
   ],
   "source": [
    "lovers = [\"Sue\", \"Margie\", \"Lily\"]\n",
    "for lover in lovers:\n",
    "    print(f\"{lover.title()}, I love you\")"
   ]
  },
  {
   "cell_type": "code",
   "execution_count": 2,
   "id": "51980b7c",
   "metadata": {},
   "outputs": [
    {
     "data": {
      "text/plain": [
       "[1, 2, 3, 4, 5]"
      ]
     },
     "execution_count": 2,
     "metadata": {},
     "output_type": "execute_result"
    }
   ],
   "source": [
    "# 用range创建列表\n",
    "numbers =  list(range(1,6))\n",
    "numbers"
   ]
  },
  {
   "cell_type": "code",
   "execution_count": 3,
   "id": "fcb2e2da",
   "metadata": {},
   "outputs": [
    {
     "data": {
      "text/plain": [
       "[2, 4, 6, 8, 10]"
      ]
     },
     "execution_count": 3,
     "metadata": {},
     "output_type": "execute_result"
    }
   ],
   "source": [
    "even_numbers = list(range(2, 11, 2))\n",
    "even_numbers"
   ]
  },
  {
   "cell_type": "code",
   "execution_count": 5,
   "id": "be1ff6e1",
   "metadata": {},
   "outputs": [
    {
     "data": {
      "text/plain": [
       "[1, 4, 9, 16, 25, 36, 49, 64, 81, 100]"
      ]
     },
     "execution_count": 5,
     "metadata": {},
     "output_type": "execute_result"
    }
   ],
   "source": [
    "squares = [value **2 for value in range(1,11)]\n",
    "squares"
   ]
  },
  {
   "cell_type": "code",
   "execution_count": 6,
   "id": "68feaca3",
   "metadata": {},
   "outputs": [
    {
     "name": "stdout",
     "output_type": "stream",
     "text": [
      "['Charlie', 'Bob']\n"
     ]
    }
   ],
   "source": [
    "# 切片\n",
    "players = [\"Charlie\", \"Bob\", \"Michael\", \"Lee\", \"Lily\"]\n",
    "print(players[0:2])"
   ]
  },
  {
   "cell_type": "code",
   "execution_count": 7,
   "id": "9b77aafc",
   "metadata": {},
   "outputs": [
    {
     "name": "stdout",
     "output_type": "stream",
     "text": [
      "['Charlie', 'Bob', 'Michael', 'Lee']\n"
     ]
    }
   ],
   "source": [
    "print(players[:4])"
   ]
  },
  {
   "cell_type": "code",
   "execution_count": 8,
   "id": "52443d27",
   "metadata": {},
   "outputs": [
    {
     "name": "stdout",
     "output_type": "stream",
     "text": [
      "['Michael', 'Lee', 'Lily']\n"
     ]
    }
   ],
   "source": [
    "print(players[2:])"
   ]
  },
  {
   "cell_type": "code",
   "execution_count": 9,
   "id": "db97935c",
   "metadata": {},
   "outputs": [
    {
     "data": {
      "text/plain": [
       "['Charlie', 'Bob', 'Michael', 'Lee', 'Lily']"
      ]
     },
     "execution_count": 9,
     "metadata": {},
     "output_type": "execute_result"
    }
   ],
   "source": [
    "# 复制列表\n",
    "my_friends = players[:]\n",
    "my_friends"
   ]
  },
  {
   "cell_type": "markdown",
   "id": "8fe4a9fc",
   "metadata": {},
   "source": [
    "<b>列表里的值是可以修改的， 但是元组里的值不可以"
   ]
  },
  {
   "cell_type": "code",
   "execution_count": 10,
   "id": "111817a4",
   "metadata": {},
   "outputs": [
    {
     "name": "stdout",
     "output_type": "stream",
     "text": [
      "200\n",
      "5\n"
     ]
    }
   ],
   "source": [
    "dimensions = (200,5)\n",
    "for dimension in dimensions:\n",
    "    print(dimension)"
   ]
  },
  {
   "cell_type": "code",
   "execution_count": null,
   "id": "ec689309",
   "metadata": {},
   "outputs": [],
   "source": []
  }
 ],
 "metadata": {
  "kernelspec": {
   "display_name": "Python 3",
   "language": "python",
   "name": "python3"
  },
  "language_info": {
   "codemirror_mode": {
    "name": "ipython",
    "version": 3
   },
   "file_extension": ".py",
   "mimetype": "text/x-python",
   "name": "python",
   "nbconvert_exporter": "python",
   "pygments_lexer": "ipython3",
   "version": "3.8.8"
  }
 },
 "nbformat": 4,
 "nbformat_minor": 5
}
