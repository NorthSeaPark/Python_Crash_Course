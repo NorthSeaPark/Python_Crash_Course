{
 "cells": [
  {
   "cell_type": "code",
   "execution_count": 2,
   "id": "13061d11",
   "metadata": {},
   "outputs": [
    {
     "name": "stdout",
     "output_type": "stream",
     "text": [
      "3.1415926535\n",
      "  8979323846\n",
      "  2643383279\n"
     ]
    }
   ],
   "source": [
    "with open('pi_30.txt') as file_object:\n",
    "    contents = file_object.read()\n",
    "print(contents.rstrip()) # 去掉符号末尾的空白"
   ]
  },
  {
   "cell_type": "code",
   "execution_count": 4,
   "id": "05f3e473",
   "metadata": {},
   "outputs": [
    {
     "name": "stdout",
     "output_type": "stream",
     "text": [
      "3.1415926535\n",
      "  8979323846\n",
      "  2643383279\n"
     ]
    }
   ],
   "source": [
    "# 逐行读取\n",
    "filename = \"pi_30.txt\"\n",
    "with open(filename) as file_object:\n",
    "    for line in file_object:\n",
    "        print(line.rstrip())"
   ]
  },
  {
   "cell_type": "code",
   "execution_count": 6,
   "id": "9aebe1a1",
   "metadata": {},
   "outputs": [
    {
     "name": "stdout",
     "output_type": "stream",
     "text": [
      "3.1415926535\n",
      "  8979323846\n",
      "  2643383279\n"
     ]
    }
   ],
   "source": [
    "# 把文件各行放进列表\n",
    "filename = \"pi_30.txt\"\n",
    "with open(filename) as file_object:\n",
    "    lines = file_object.readlines()\n",
    "\n",
    "for line in lines:\n",
    "    print(line.rstrip())"
   ]
  },
  {
   "cell_type": "code",
   "execution_count": 7,
   "id": "e7e4e54f",
   "metadata": {},
   "outputs": [],
   "source": [
    "# 写入空文件\n",
    "filename = 'programming.txt'\n",
    "with open(filename,'w') as file_object:\n",
    "    file_object.write(\"I love programming\\n\")\n",
    "    file_object.write(\"I love fucking milfs\\n\")"
   ]
  },
  {
   "cell_type": "code",
   "execution_count": 8,
   "id": "60d2b248",
   "metadata": {},
   "outputs": [],
   "source": [
    "# 附加到文件\n",
    "filename = 'programming.txt'\n",
    "with open(filename, 'a') as file_object:\n",
    "    file_object.write(\"第二次文革开始了\\n\")\n",
    "    file_object.write(\"团结起来跟丫干\\n\")"
   ]
  },
  {
   "cell_type": "code",
   "execution_count": 10,
   "id": "652f87b3",
   "metadata": {},
   "outputs": [
    {
     "name": "stdout",
     "output_type": "stream",
     "text": [
      "Give me two numbers and I'll divide them.\n",
      "Enter 'q' tp quit.\n",
      "\n",
      "First number: 4\n",
      "\n",
      "Second number: 4\n",
      "\n",
      "The answer is 1.0\n",
      "\n",
      "First number: 4\n",
      "\n",
      "Second number: 0\n",
      "You can't divide by 0!\n",
      "\n",
      "First number: 0\n",
      "\n",
      "Second number: 4\n",
      "\n",
      "The answer is 0.0\n",
      "\n",
      "First number: q\n",
      "\n",
      "Game Over\n"
     ]
    }
   ],
   "source": [
    "# 处理异常 ZeroDivisionError：try-except\n",
    "print(\"Give me two numbers and I'll divide them.\")\n",
    "print(\"Enter 'q' tp quit.\")\n",
    "while True:\n",
    "    first_number = input(\"\\nFirst number: \")\n",
    "    if first_number == 'q':\n",
    "        print(\"\\nGame Over\")\n",
    "        break\n",
    "    second_number = input(\"\\nSecond number: \")\n",
    "    if second_number == 'q':\n",
    "        print(\"\\nGame Over\")\n",
    "        break\n",
    "    try:\n",
    "        answer = int(first_number) / int(second_number)\n",
    "    except ZeroDivisionError:\n",
    "        print(\"\\nYou can't divide by 0!\")\n",
    "    else:\n",
    "        print(f\"\\nThe answer is {answer}\")"
   ]
  },
  {
   "cell_type": "code",
   "execution_count": null,
   "id": "69c783f6",
   "metadata": {},
   "outputs": [],
   "source": [
    "#处理异常 FileNotFoundError"
   ]
  },
  {
   "cell_type": "code",
   "execution_count": 11,
   "id": "b42609fa",
   "metadata": {},
   "outputs": [
    {
     "name": "stdout",
     "output_type": "stream",
     "text": [
      "Sorry, the file alice.txt does not exist\n"
     ]
    }
   ],
   "source": [
    "filename = \"alice.txt\"\n",
    "try:\n",
    "    with open(filename, encoding='utf-8') as f:\n",
    "        contents = f.read()\n",
    "except FileNotFoundError:\n",
    "    print(f\"Sorry, the file {filename} does not exist\")"
   ]
  },
  {
   "cell_type": "code",
   "execution_count": 12,
   "id": "f3ea299d",
   "metadata": {},
   "outputs": [
    {
     "name": "stdout",
     "output_type": "stream",
     "text": [
      "Sorry, the file alice.txt does not exist\n",
      "Sorry, the file little_women.txt does not exist\n",
      "Sorry, the file moby_dick.txt does not exist\n"
     ]
    }
   ],
   "source": [
    "# 分析多个文件的文本\n",
    "def count_words(filename):\n",
    "    try:\n",
    "        with open(filename, encoding='utf-8') as f:\n",
    "            contents = f.read()\n",
    "    except FileNotFoundError:\n",
    "        print(f\"Sorry, the file {filename} does not exist\")\n",
    "    else:\n",
    "        words = contents.split()\n",
    "        num_words = len(words)\n",
    "        print(f\"The file {filename} has about {num_words} words.\")\n",
    "filenames = ['alice.txt', 'little_women.txt', 'moby_dick.txt']\n",
    "for filename in filenames:\n",
    "    count_words(filename)"
   ]
  },
  {
   "cell_type": "code",
   "execution_count": 15,
   "id": "1fcaabcd",
   "metadata": {},
   "outputs": [],
   "source": [
    "# 存储数据\n",
    "# 使用json.dump() 和 json.load()\n",
    "import json\n",
    "numbers = [2,3,4,5,7]\n",
    "\n",
    "filename = 'numbers.json'\n",
    "with open(filename,'w') as f:\n",
    "    json.dump(numbers, f) #写入"
   ]
  },
  {
   "cell_type": "code",
   "execution_count": 16,
   "id": "196b82be",
   "metadata": {},
   "outputs": [
    {
     "name": "stdout",
     "output_type": "stream",
     "text": [
      "[2, 3, 4, 5, 7]\n"
     ]
    }
   ],
   "source": [
    "filename = 'numbers.json'\n",
    "with open(filename) as f:\n",
    "    numbers = json.load(f) # 读取\n",
    "print(numbers)"
   ]
  },
  {
   "cell_type": "code",
   "execution_count": null,
   "id": "ddc45bd3",
   "metadata": {},
   "outputs": [],
   "source": []
  }
 ],
 "metadata": {
  "kernelspec": {
   "display_name": "Python 3",
   "language": "python",
   "name": "python3"
  },
  "language_info": {
   "codemirror_mode": {
    "name": "ipython",
    "version": 3
   },
   "file_extension": ".py",
   "mimetype": "text/x-python",
   "name": "python",
   "nbconvert_exporter": "python",
   "pygments_lexer": "ipython3",
   "version": "3.8.8"
  }
 },
 "nbformat": 4,
 "nbformat_minor": 5
}
