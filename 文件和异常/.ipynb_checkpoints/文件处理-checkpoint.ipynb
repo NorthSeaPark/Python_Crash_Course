{
 "cells": [
  {
   "cell_type": "code",
   "execution_count": 2,
   "id": "5345d3a2",
   "metadata": {},
   "outputs": [
    {
     "name": "stdout",
     "output_type": "stream",
     "text": [
      "3.1415926535\n",
      "  8979323846\n",
      "  2643383279\n"
     ]
    }
   ],
   "source": [
    "with open('pi_30.txt') as file_object:\n",
    "    contents = file_object.read()\n",
    "print(contents.rstrip()) # 去掉符号末尾的空白"
   ]
  },
  {
   "cell_type": "code",
   "execution_count": 4,
   "id": "743ba8a4",
   "metadata": {},
   "outputs": [
    {
     "name": "stdout",
     "output_type": "stream",
     "text": [
      "3.1415926535\n",
      "  8979323846\n",
      "  2643383279\n"
     ]
    }
   ],
   "source": [
    "# 逐行读取\n",
    "filename = \"pi_30.txt\"\n",
    "with open(filename) as file_object:\n",
    "    for line in file_object:\n",
    "        print(line.rstrip())"
   ]
  },
  {
   "cell_type": "code",
   "execution_count": 6,
   "id": "9864b914",
   "metadata": {},
   "outputs": [
    {
     "name": "stdout",
     "output_type": "stream",
     "text": [
      "3.1415926535\n",
      "  8979323846\n",
      "  2643383279\n"
     ]
    }
   ],
   "source": [
    "# 把文件各行放进列表\n",
    "filename = \"pi_30.txt\"\n",
    "with open(filename) as file_object:\n",
    "    lines = file_object.readlines()\n",
    "\n",
    "for line in lines:\n",
    "    print(line.rstrip())"
   ]
  },
  {
   "cell_type": "code",
   "execution_count": 7,
   "id": "42dbddb4",
   "metadata": {},
   "outputs": [],
   "source": [
    "# 写入空文件\n",
    "filename = 'programming.txt'\n",
    "with open(filename,'w') as file_object:\n",
    "    file_object.write(\"I love programming\\n\")\n",
    "    file_object.write(\"I love fucking milfs\\n\")"
   ]
  },
  {
   "cell_type": "code",
   "execution_count": 8,
   "id": "8c148a23",
   "metadata": {},
   "outputs": [],
   "source": [
    "# 附加到文件\n",
    "filename = 'programming.txt'\n",
    "with open(filename, 'a') as file_object:\n",
    "    file_object.write(\"第二次文革开始了\\n\")\n",
    "    file_object.write(\"团结起来跟丫干\\n\")"
   ]
  },
  {
   "cell_type": "code",
   "execution_count": 10,
   "id": "957a17c7",
   "metadata": {},
   "outputs": [
    {
     "name": "stdout",
     "output_type": "stream",
     "text": [
      "Give me two numbers and I'll divide them.\n",
      "Enter 'q' tp quit.\n",
      "\n",
      "First number: 4\n",
      "\n",
      "Second number: 4\n",
      "\n",
      "The answer is 1.0\n",
      "\n",
      "First number: 4\n",
      "\n",
      "Second number: 0\n",
      "You can't divide by 0!\n",
      "\n",
      "First number: 0\n",
      "\n",
      "Second number: 4\n",
      "\n",
      "The answer is 0.0\n",
      "\n",
      "First number: q\n",
      "\n",
      "Game Over\n"
     ]
    }
   ],
   "source": [
    "# 处理异常：try-except\n",
    "print(\"Give me two numbers and I'll divide them.\")\n",
    "print(\"Enter 'q' tp quit.\")\n",
    "while True:\n",
    "    first_number = input(\"\\nFirst number: \")\n",
    "    if first_number == 'q':\n",
    "        print(\"\\nGame Over\")\n",
    "        break\n",
    "    second_number = input(\"\\nSecond number: \")\n",
    "    if second_number == 'q':\n",
    "        print(\"\\nGame Over\")\n",
    "        break\n",
    "    try:\n",
    "        answer = int(first_number) / int(second_number)\n",
    "    except ZeroDivisionError:\n",
    "        print(\"\\nYou can't divide by 0!\")\n",
    "    else:\n",
    "        print(f\"\\nThe answer is {answer}\")"
   ]
  },
  {
   "cell_type": "code",
   "execution_count": null,
   "id": "5ef2788c",
   "metadata": {},
   "outputs": [],
   "source": []
  },
  {
   "cell_type": "code",
   "execution_count": null,
   "id": "68ea3f0d",
   "metadata": {},
   "outputs": [],
   "source": []
  }
 ],
 "metadata": {
  "kernelspec": {
   "display_name": "Python 3",
   "language": "python",
   "name": "python3"
  },
  "language_info": {
   "codemirror_mode": {
    "name": "ipython",
    "version": 3
   },
   "file_extension": ".py",
   "mimetype": "text/x-python",
   "name": "python",
   "nbconvert_exporter": "python",
   "pygments_lexer": "ipython3",
   "version": "3.8.8"
  }
 },
 "nbformat": 4,
 "nbformat_minor": 5
}
