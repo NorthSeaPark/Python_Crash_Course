{
 "cells": [
  {
   "cell_type": "code",
   "execution_count": 2,
   "id": "4b6468a9",
   "metadata": {},
   "outputs": [
    {
     "name": "stdout",
     "output_type": "stream",
     "text": [
      "3.1415926535\n",
      "  8979323846\n",
      "  2643383279\n"
     ]
    }
   ],
   "source": [
    "with open('pi_30.txt') as file_object:\n",
    "    contents = file_object.read()\n",
    "print(contents.rstrip()) # 去掉符号末尾的空白"
   ]
  },
  {
   "cell_type": "code",
   "execution_count": 4,
   "id": "9ca8aca2",
   "metadata": {},
   "outputs": [
    {
     "name": "stdout",
     "output_type": "stream",
     "text": [
      "3.1415926535\n",
      "  8979323846\n",
      "  2643383279\n"
     ]
    }
   ],
   "source": [
    "# 逐行读取\n",
    "filename = \"pi_30.txt\"\n",
    "with open(filename) as file_object:\n",
    "    for line in file_object:\n",
    "        print(line.rstrip())"
   ]
  },
  {
   "cell_type": "code",
   "execution_count": 6,
   "id": "73817fa4",
   "metadata": {},
   "outputs": [
    {
     "name": "stdout",
     "output_type": "stream",
     "text": [
      "3.1415926535\n",
      "  8979323846\n",
      "  2643383279\n"
     ]
    }
   ],
   "source": [
    "# 把文件各行放进列表\n",
    "filename = \"pi_30.txt\"\n",
    "with open(filename) as file_object:\n",
    "    lines = file_object.readlines()\n",
    "\n",
    "for line in lines:\n",
    "    print(line.rstrip())"
   ]
  },
  {
   "cell_type": "code",
   "execution_count": 7,
   "id": "981c9b38",
   "metadata": {},
   "outputs": [],
   "source": [
    "# 写入空文件\n",
    "filename = 'programming.txt'\n",
    "with open(filename,'w') as file_object:\n",
    "    file_object.write(\"I love programming\\n\")\n",
    "    file_object.write(\"I love fucking milfs\\n\")"
   ]
  },
  {
   "cell_type": "code",
   "execution_count": 8,
   "id": "35ebd326",
   "metadata": {},
   "outputs": [],
   "source": [
    "# 附加到文件\n",
    "filename = 'programming.txt'\n",
    "with open(filename, 'a') as file_object:\n",
    "    file_object.write(\"第二次文革开始了\\n\")\n",
    "    file_object.write(\"团结起来跟丫干\\n\")"
   ]
  },
  {
   "cell_type": "code",
   "execution_count": null,
   "id": "56189306",
   "metadata": {},
   "outputs": [],
   "source": [
    "# 处理异常：try-except\n",
    "print(\"Give me two numbers and I'll divide them.\")\n",
    "print(\"Enter 'q' tp quit.\")\n",
    "while True:\n",
    "    first_"
   ]
  }
 ],
 "metadata": {
  "kernelspec": {
   "display_name": "Python 3",
   "language": "python",
   "name": "python3"
  },
  "language_info": {
   "codemirror_mode": {
    "name": "ipython",
    "version": 3
   },
   "file_extension": ".py",
   "mimetype": "text/x-python",
   "name": "python",
   "nbconvert_exporter": "python",
   "pygments_lexer": "ipython3",
   "version": "3.8.8"
  }
 },
 "nbformat": 4,
 "nbformat_minor": 5
}
