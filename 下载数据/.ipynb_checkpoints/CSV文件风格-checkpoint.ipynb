{
 "cells": [
  {
   "cell_type": "code",
   "execution_count": 2,
   "id": "b4cc051c",
   "metadata": {},
   "outputs": [
    {
     "name": "stdout",
     "output_type": "stream",
     "text": [
      "0 STATION\n",
      "1 NAME\n",
      "2 DATE\n",
      "3 PRCP\n",
      "4 TAVG\n",
      "5 TMAX\n",
      "6 TMIN\n"
     ]
    }
   ],
   "source": [
    "import csv\n",
    "filename = 'data/sitka_weather_07-2018_simple.csv'\n",
    "with open(filename) as f:\n",
    "    reader = csv.reader(f)\n",
    "    header_row = next(reader)\n",
    "    for index, column_header in enumerate(header_row):\n",
    "        print(index, column_header)"
   ]
  },
  {
   "cell_type": "code",
   "execution_count": 3,
   "id": "928b629a",
   "metadata": {},
   "outputs": [
    {
     "name": "stdout",
     "output_type": "stream",
     "text": [
      "[62, 58, 70, 70, 67, 59, 58, 62, 66, 59, 56, 63, 65, 58, 56, 59, 64, 60, 60, 61, 65, 65, 63, 59, 64, 65, 68, 66, 64, 67, 65]\n"
     ]
    }
   ],
   "source": [
    "# 读取最高温度\n",
    "with open(filename) as f:\n",
    "    reader = csv.reader(f)\n",
    "    header_row = next(reader)\n",
    "    # 从文件中获取最高温度\n",
    "    highs = []\n",
    "    for row in reader:\n",
    "        high = int(row[5])\n",
    "        highs.append(high)\n",
    "        \n",
    "print(highs)"
   ]
  },
  {
   "cell_type": "code",
   "execution_count": null,
   "id": "8d5e558d",
   "metadata": {},
   "outputs": [],
   "source": []
  }
 ],
 "metadata": {
  "kernelspec": {
   "display_name": "Python 3",
   "language": "python",
   "name": "python3"
  },
  "language_info": {
   "codemirror_mode": {
    "name": "ipython",
    "version": 3
   },
   "file_extension": ".py",
   "mimetype": "text/x-python",
   "name": "python",
   "nbconvert_exporter": "python",
   "pygments_lexer": "ipython3",
   "version": "3.8.8"
  }
 },
 "nbformat": 4,
 "nbformat_minor": 5
}
