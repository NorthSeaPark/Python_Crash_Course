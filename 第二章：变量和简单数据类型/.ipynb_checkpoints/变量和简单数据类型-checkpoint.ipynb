{
 "cells": [
  {
   "cell_type": "markdown",
   "id": "e31b985c",
   "metadata": {},
   "source": [
    "<b>使用方法修改字符串大小写"
   ]
  },
  {
   "cell_type": "code",
   "execution_count": 1,
   "id": "f0c0b4ee",
   "metadata": {},
   "outputs": [
    {
     "name": "stdout",
     "output_type": "stream",
     "text": [
      "Charlie Hou\n"
     ]
    }
   ],
   "source": [
    "name = \"charlie hou\"\n",
    "print(name.title())"
   ]
  },
  {
   "cell_type": "markdown",
   "id": "028eaa55",
   "metadata": {},
   "source": [
    "<b>f字符号"
   ]
  },
  {
   "cell_type": "code",
   "execution_count": 4,
   "id": "8c2756e5",
   "metadata": {},
   "outputs": [
    {
     "name": "stdout",
     "output_type": "stream",
     "text": [
      "Hello, Bob Niu!\n"
     ]
    }
   ],
   "source": [
    "first_name = \"bob\"\n",
    "last_name = \"niu\"\n",
    "full_name = f\"{first_name} {last_name}\"\n",
    "print(f\"Hello, {full_name.title()}!\")"
   ]
  },
  {
   "cell_type": "markdown",
   "id": "a689c74d",
   "metadata": {},
   "source": [
    "<b>删除空白"
   ]
  },
  {
   "cell_type": "code",
   "execution_count": 9,
   "id": "c874bdfd",
   "metadata": {},
   "outputs": [
    {
     "name": "stdout",
     "output_type": "stream",
     "text": [
      "Look,   python  , love me\n"
     ]
    }
   ],
   "source": [
    "favorite_language = \"   python  \"\n",
    "print(f\"Look,{favorite_language}, love me\")"
   ]
  },
  {
   "cell_type": "code",
   "execution_count": 10,
   "id": "fed3ec78",
   "metadata": {},
   "outputs": [
    {
     "name": "stdout",
     "output_type": "stream",
     "text": [
      "Look,   python, love me\n"
     ]
    }
   ],
   "source": [
    "print(f\"Look,{favorite_language.rstrip()}, love me\")"
   ]
  },
  {
   "cell_type": "code",
   "execution_count": 11,
   "id": "11c2efd3",
   "metadata": {},
   "outputs": [
    {
     "name": "stdout",
     "output_type": "stream",
     "text": [
      "Look,python  , love me\n"
     ]
    }
   ],
   "source": [
    "print(f\"Look,{favorite_language.lstrip()}, love me\")"
   ]
  },
  {
   "cell_type": "code",
   "execution_count": 12,
   "id": "90b5e49e",
   "metadata": {},
   "outputs": [
    {
     "name": "stdout",
     "output_type": "stream",
     "text": [
      "Look,python, love me\n"
     ]
    }
   ],
   "source": [
    "print(f\"Look,{favorite_language.strip()}, love me\")"
   ]
  },
  {
   "cell_type": "code",
   "execution_count": null,
   "id": "a76567e8",
   "metadata": {},
   "outputs": [],
   "source": []
  }
 ],
 "metadata": {
  "kernelspec": {
   "display_name": "Python 3",
   "language": "python",
   "name": "python3"
  },
  "language_info": {
   "codemirror_mode": {
    "name": "ipython",
    "version": 3
   },
   "file_extension": ".py",
   "mimetype": "text/x-python",
   "name": "python",
   "nbconvert_exporter": "python",
   "pygments_lexer": "ipython3",
   "version": "3.8.8"
  }
 },
 "nbformat": 4,
 "nbformat_minor": 5
}
