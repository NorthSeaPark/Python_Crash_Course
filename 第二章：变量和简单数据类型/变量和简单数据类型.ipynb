{
 "cells": [
  {
   "cell_type": "markdown",
   "id": "c156571e",
   "metadata": {},
   "source": [
    "<b>使用方法修改字符串大小写"
   ]
  },
  {
   "cell_type": "code",
   "execution_count": 1,
   "id": "b64e55cd",
   "metadata": {},
   "outputs": [
    {
     "name": "stdout",
     "output_type": "stream",
     "text": [
      "Charlie Hou\n"
     ]
    }
   ],
   "source": [
    "name = \"charlie hou\"\n",
    "print(name.title())"
   ]
  },
  {
   "cell_type": "markdown",
   "id": "e901f96e",
   "metadata": {},
   "source": [
    "<b>f字符号"
   ]
  },
  {
   "cell_type": "code",
   "execution_count": 4,
   "id": "1d67954e",
   "metadata": {},
   "outputs": [
    {
     "name": "stdout",
     "output_type": "stream",
     "text": [
      "Hello, Bob Niu!\n"
     ]
    }
   ],
   "source": [
    "first_name = \"bob\"\n",
    "last_name = \"niu\"\n",
    "full_name = f\"{first_name} {last_name}\"\n",
    "print(f\"Hello, {full_name.title()}!\")"
   ]
  },
  {
   "cell_type": "markdown",
   "id": "b7316661",
   "metadata": {},
   "source": [
    "<b>删除空白"
   ]
  },
  {
   "cell_type": "code",
   "execution_count": 9,
   "id": "57f5b1b7",
   "metadata": {},
   "outputs": [
    {
     "name": "stdout",
     "output_type": "stream",
     "text": [
      "Look,   python  , love me\n"
     ]
    }
   ],
   "source": [
    "favorite_language = \"   python  \"\n",
    "print(f\"Look,{favorite_language}, love me\")"
   ]
  },
  {
   "cell_type": "code",
   "execution_count": 10,
   "id": "72457458",
   "metadata": {},
   "outputs": [
    {
     "name": "stdout",
     "output_type": "stream",
     "text": [
      "Look,   python, love me\n"
     ]
    }
   ],
   "source": [
    "print(f\"Look,{favorite_language.rstrip()}, love me\")"
   ]
  },
  {
   "cell_type": "code",
   "execution_count": 11,
   "id": "0eb35e54",
   "metadata": {},
   "outputs": [
    {
     "name": "stdout",
     "output_type": "stream",
     "text": [
      "Look,python  , love me\n"
     ]
    }
   ],
   "source": [
    "print(f\"Look,{favorite_language.lstrip()}, love me\")"
   ]
  },
  {
   "cell_type": "code",
   "execution_count": 12,
   "id": "c1b19fa1",
   "metadata": {},
   "outputs": [
    {
     "name": "stdout",
     "output_type": "stream",
     "text": [
      "Look,python, love me\n"
     ]
    }
   ],
   "source": [
    "print(f\"Look,{favorite_language.strip()}, love me\")"
   ]
  },
  {
   "cell_type": "code",
   "execution_count": 13,
   "id": "679b813e",
   "metadata": {},
   "outputs": [
    {
     "name": "stdout",
     "output_type": "stream",
     "text": [
      "The Zen of Python, by Tim Peters\n",
      "\n",
      "Beautiful is better than ugly.\n",
      "Explicit is better than implicit.\n",
      "Simple is better than complex.\n",
      "Complex is better than complicated.\n",
      "Flat is better than nested.\n",
      "Sparse is better than dense.\n",
      "Readability counts.\n",
      "Special cases aren't special enough to break the rules.\n",
      "Although practicality beats purity.\n",
      "Errors should never pass silently.\n",
      "Unless explicitly silenced.\n",
      "In the face of ambiguity, refuse the temptation to guess.\n",
      "There should be one-- and preferably only one --obvious way to do it.\n",
      "Although that way may not be obvious at first unless you're Dutch.\n",
      "Now is better than never.\n",
      "Although never is often better than *right* now.\n",
      "If the implementation is hard to explain, it's a bad idea.\n",
      "If the implementation is easy to explain, it may be a good idea.\n",
      "Namespaces are one honking great idea -- let's do more of those!\n"
     ]
    }
   ],
   "source": [
    "import this"
   ]
  },
  {
   "cell_type": "code",
   "execution_count": null,
   "id": "d6562ac1",
   "metadata": {},
   "outputs": [],
   "source": []
  }
 ],
 "metadata": {
  "kernelspec": {
   "display_name": "Python 3",
   "language": "python",
   "name": "python3"
  },
  "language_info": {
   "codemirror_mode": {
    "name": "ipython",
    "version": 3
   },
   "file_extension": ".py",
   "mimetype": "text/x-python",
   "name": "python",
   "nbconvert_exporter": "python",
   "pygments_lexer": "ipython3",
   "version": "3.8.8"
  }
 },
 "nbformat": 4,
 "nbformat_minor": 5
}
