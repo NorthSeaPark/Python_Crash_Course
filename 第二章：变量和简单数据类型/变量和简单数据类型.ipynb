{
 "cells": [
  {
   "cell_type": "markdown",
   "id": "569dd3bf",
   "metadata": {},
   "source": [
    "<b>使用方法修改字符串大小写"
   ]
  },
  {
   "cell_type": "code",
   "execution_count": 1,
   "id": "347b5205",
   "metadata": {},
   "outputs": [
    {
     "name": "stdout",
     "output_type": "stream",
     "text": [
      "Charlie Hou\n"
     ]
    }
   ],
   "source": [
    "name = \"charlie hou\"\n",
    "print(name.title())"
   ]
  },
  {
   "cell_type": "markdown",
   "id": "0c1348cf",
   "metadata": {},
   "source": [
    "<b>f字符号"
   ]
  },
  {
   "cell_type": "code",
   "execution_count": 4,
   "id": "c90df2af",
   "metadata": {},
   "outputs": [
    {
     "name": "stdout",
     "output_type": "stream",
     "text": [
      "Hello, Bob Niu!\n"
     ]
    }
   ],
   "source": [
    "first_name = \"bob\"\n",
    "last_name = \"niu\"\n",
    "full_name = f\"{first_name} {last_name}\"\n",
    "print(f\"Hello, {full_name.title()}!\")"
   ]
  },
  {
   "cell_type": "markdown",
   "id": "e484746e",
   "metadata": {},
   "source": [
    "<b>删除空白"
   ]
  },
  {
   "cell_type": "code",
   "execution_count": 9,
   "id": "d6598ee0",
   "metadata": {},
   "outputs": [
    {
     "name": "stdout",
     "output_type": "stream",
     "text": [
      "Look,   python  , love me\n"
     ]
    }
   ],
   "source": [
    "favorite_language = \"   python  \"\n",
    "print(f\"Look,{favorite_language}, love me\")"
   ]
  },
  {
   "cell_type": "code",
   "execution_count": 10,
   "id": "fced4114",
   "metadata": {},
   "outputs": [
    {
     "name": "stdout",
     "output_type": "stream",
     "text": [
      "Look,   python, love me\n"
     ]
    }
   ],
   "source": [
    "print(f\"Look,{favorite_language.rstrip()}, love me\")"
   ]
  },
  {
   "cell_type": "code",
   "execution_count": 11,
   "id": "d375abee",
   "metadata": {},
   "outputs": [
    {
     "name": "stdout",
     "output_type": "stream",
     "text": [
      "Look,python  , love me\n"
     ]
    }
   ],
   "source": [
    "print(f\"Look,{favorite_language.lstrip()}, love me\")"
   ]
  },
  {
   "cell_type": "code",
   "execution_count": 12,
   "id": "49fdb525",
   "metadata": {},
   "outputs": [
    {
     "name": "stdout",
     "output_type": "stream",
     "text": [
      "Look,python, love me\n"
     ]
    }
   ],
   "source": [
    "print(f\"Look,{favorite_language.strip()}, love me\")"
   ]
  },
  {
   "cell_type": "code",
   "execution_count": 13,
   "id": "72e62a35",
   "metadata": {},
   "outputs": [
    {
     "name": "stdout",
     "output_type": "stream",
     "text": [
      "The Zen of Python, by Tim Peters\n",
      "\n",
      "Beautiful is better than ugly.\n",
      "Explicit is better than implicit.\n",
      "Simple is better than complex.\n",
      "Complex is better than complicated.\n",
      "Flat is better than nested.\n",
      "Sparse is better than dense.\n",
      "Readability counts.\n",
      "Special cases aren't special enough to break the rules.\n",
      "Although practicality beats purity.\n",
      "Errors should never pass silently.\n",
      "Unless explicitly silenced.\n",
      "In the face of ambiguity, refuse the temptation to guess.\n",
      "There should be one-- and preferably only one --obvious way to do it.\n",
      "Although that way may not be obvious at first unless you're Dutch.\n",
      "Now is better than never.\n",
      "Although never is often better than *right* now.\n",
      "If the implementation is hard to explain, it's a bad idea.\n",
      "If the implementation is easy to explain, it may be a good idea.\n",
      "Namespaces are one honking great idea -- let's do more of those!\n"
     ]
    }
   ],
   "source": [
    "import this"
   ]
  },
  {
   "cell_type": "code",
   "execution_count": null,
   "id": "8ce29e7f",
   "metadata": {},
   "outputs": [],
   "source": [
    "\n"
   ]
  }
 ],
 "metadata": {
  "kernelspec": {
   "display_name": "Python 3",
   "language": "python",
   "name": "python3"
  },
  "language_info": {
   "codemirror_mode": {
    "name": "ipython",
    "version": 3
   },
   "file_extension": ".py",
   "mimetype": "text/x-python",
   "name": "python",
   "nbconvert_exporter": "python",
   "pygments_lexer": "ipython3",
   "version": "3.8.8"
  }
 },
 "nbformat": 4,
 "nbformat_minor": 5
}
