{
 "cells": [
  {
   "cell_type": "markdown",
   "id": "5ae50b6a",
   "metadata": {},
   "source": [
    "<b>使用方法修改字符串大小写"
   ]
  },
  {
   "cell_type": "code",
   "execution_count": 1,
   "id": "9151731f",
   "metadata": {},
   "outputs": [
    {
     "name": "stdout",
     "output_type": "stream",
     "text": [
      "Charlie Hou\n"
     ]
    }
   ],
   "source": [
    "name = \"charlie hou\"\n",
    "print(name.title())"
   ]
  },
  {
   "cell_type": "markdown",
   "id": "f76b1fc6",
   "metadata": {},
   "source": [
    "<b>f字符号"
   ]
  },
  {
   "cell_type": "code",
   "execution_count": 4,
   "id": "b0419aea",
   "metadata": {},
   "outputs": [
    {
     "name": "stdout",
     "output_type": "stream",
     "text": [
      "Hello, Bob Niu!\n"
     ]
    }
   ],
   "source": [
    "first_name = \"bob\"\n",
    "last_name = \"niu\"\n",
    "full_name = f\"{first_name} {last_name}\"\n",
    "print(f\"Hello, {full_name.title()}!\")"
   ]
  },
  {
   "cell_type": "markdown",
   "id": "0671d417",
   "metadata": {},
   "source": []
  }
 ],
 "metadata": {
  "kernelspec": {
   "display_name": "Python 3",
   "language": "python",
   "name": "python3"
  },
  "language_info": {
   "codemirror_mode": {
    "name": "ipython",
    "version": 3
   },
   "file_extension": ".py",
   "mimetype": "text/x-python",
   "name": "python",
   "nbconvert_exporter": "python",
   "pygments_lexer": "ipython3",
   "version": "3.8.8"
  }
 },
 "nbformat": 4,
 "nbformat_minor": 5
}
