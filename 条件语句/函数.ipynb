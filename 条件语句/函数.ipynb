{
 "cells": [
  {
   "cell_type": "code",
   "execution_count": 2,
   "id": "8110ab8b",
   "metadata": {},
   "outputs": [
    {
     "name": "stdout",
     "output_type": "stream",
     "text": [
      "{'first': 'Kurt', 'last': 'Cobaine', 'age': 27}\n"
     ]
    }
   ],
   "source": [
    "# 返回字典\n",
    "def build_person(first_name, last_name, age = None):\n",
    "    person = {'first': first_name, 'last':last_name}\n",
    "    if age:\n",
    "        person['age'] = age\n",
    "    return person\n",
    "\n",
    "rock_star = build_person('Kurt', 'Cobaine', age = 27)\n",
    "print(rock_star)"
   ]
  },
  {
   "cell_type": "code",
   "execution_count": 4,
   "id": "d13da02b",
   "metadata": {},
   "outputs": [
    {
     "name": "stdout",
     "output_type": "stream",
     "text": [
      "Making a 16-inch pizza with following toppings:\n",
      "- Mushrooms\n",
      "- Tomato\n",
      "- Green Peppers\n"
     ]
    }
   ],
   "source": [
    "# 传入任意参数\n",
    "def make_pizza(size, *toppings):\n",
    "    print(f\"Making a {size}-inch pizza with following toppings:\")\n",
    "    for topping in toppings:\n",
    "        print(f\"- {topping.title()}\")\n",
    "        \n",
    "make_pizza(16, \"mushrooms\", \"tomato\", \"green peppers\")"
   ]
  },
  {
   "cell_type": "code",
   "execution_count": null,
   "id": "108f0963",
   "metadata": {},
   "outputs": [],
   "source": []
  }
 ],
 "metadata": {
  "kernelspec": {
   "display_name": "Python 3",
   "language": "python",
   "name": "python3"
  },
  "language_info": {
   "codemirror_mode": {
    "name": "ipython",
    "version": 3
   },
   "file_extension": ".py",
   "mimetype": "text/x-python",
   "name": "python",
   "nbconvert_exporter": "python",
   "pygments_lexer": "ipython3",
   "version": "3.8.8"
  }
 },
 "nbformat": 4,
 "nbformat_minor": 5
}
