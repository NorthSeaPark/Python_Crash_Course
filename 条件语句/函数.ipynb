{
 "cells": [
  {
   "cell_type": "code",
   "execution_count": 2,
   "id": "f8346a9f",
   "metadata": {},
   "outputs": [
    {
     "name": "stdout",
     "output_type": "stream",
     "text": [
      "{'first': 'Kurt', 'last': 'Cobaine', 'age': 27}\n"
     ]
    }
   ],
   "source": [
    "# 返回字典\n",
    "def build_person(first_name, last_name, age = None):\n",
    "    person = {'first': first_name, 'last':last_name}\n",
    "    if age:\n",
    "        person['age'] = age\n",
    "    return person\n",
    "\n",
    "rock_star = build_person('Kurt', 'Cobaine', age = 27)\n",
    "print(rock_star)"
   ]
  },
  {
   "cell_type": "code",
   "execution_count": 4,
   "id": "fb88faaa",
   "metadata": {},
   "outputs": [
    {
     "name": "stdout",
     "output_type": "stream",
     "text": [
      "Making a 16-inch pizza with following toppings:\n",
      "- Mushrooms\n",
      "- Tomato\n",
      "- Green Peppers\n"
     ]
    }
   ],
   "source": [
    "# 传入任意参数\n",
    "def make_pizza(size, *toppings):\n",
    "    print(f\"Making a {size}-inch pizza with following toppings:\")\n",
    "    for topping in toppings:\n",
    "        print(f\"- {topping.title()}\")\n",
    "        \n",
    "make_pizza(16, \"mushrooms\", \"tomato\", \"green peppers\")"
   ]
  },
  {
   "cell_type": "code",
   "execution_count": 7,
   "id": "b0d402e0",
   "metadata": {},
   "outputs": [
    {
     "name": "stdout",
     "output_type": "stream",
     "text": [
      "{'Location': 'Beijing', 'Field': 'Quant', 'First name': 'Charlie', 'Last name': 'Hou'}\n"
     ]
    }
   ],
   "source": [
    "# 关键字实参\n",
    "def build_profile(first, last, **user_info):\n",
    "    user_info['First name'] = first\n",
    "    user_info['Last name'] = last\n",
    "    return user_info\n",
    "user_profile = build_profile('Charlie', 'Hou', Location='Beijing', Field = 'Quant')\n",
    "print(user_profile)"
   ]
  },
  {
   "cell_type": "code",
   "execution_count": null,
   "id": "daf5fe14",
   "metadata": {},
   "outputs": [],
   "source": []
  }
 ],
 "metadata": {
  "kernelspec": {
   "display_name": "Python 3",
   "language": "python",
   "name": "python3"
  },
  "language_info": {
   "codemirror_mode": {
    "name": "ipython",
    "version": 3
   },
   "file_extension": ".py",
   "mimetype": "text/x-python",
   "name": "python",
   "nbconvert_exporter": "python",
   "pygments_lexer": "ipython3",
   "version": "3.8.8"
  }
 },
 "nbformat": 4,
 "nbformat_minor": 5
}
