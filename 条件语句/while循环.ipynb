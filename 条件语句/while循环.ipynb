{
 "cells": [
  {
   "cell_type": "code",
   "execution_count": 1,
   "id": "1bd6d966",
   "metadata": {},
   "outputs": [
    {
     "name": "stdout",
     "output_type": "stream",
     "text": [
      "Please enter your name:Charlie\n",
      "Hello, Charlie\n"
     ]
    }
   ],
   "source": [
    "# input()方法\n",
    "name = input(\"Please enter your name:\")\n",
    "print(\"Hello,\",name)"
   ]
  },
  {
   "cell_type": "code",
   "execution_count": 4,
   "id": "364ff3a7",
   "metadata": {},
   "outputs": [
    {
     "name": "stdout",
     "output_type": "stream",
     "text": [
      "How old are you?18\n",
      "You can fuck milf\n"
     ]
    }
   ],
   "source": [
    "age = input(\"How old are you?\")\n",
    "if int(age) > 17:\n",
    "    print(\"You can fuck milf\")\n",
    "else:\n",
    "    print(\"You can only jerk off\")"
   ]
  },
  {
   "cell_type": "code",
   "execution_count": 5,
   "id": "0ab8a9f4",
   "metadata": {},
   "outputs": [
    {
     "name": "stdout",
     "output_type": "stream",
     "text": [
      "\n",
      "Please enter the city you want to visit:\n",
      "(Enter 'quit' when you are finished.)beijing\n",
      "You want to go to Beijing\n",
      "\n",
      "Please enter the city you want to visit:\n",
      "(Enter 'quit' when you are finished.)shanghai\n",
      "You want to go to Shanghai\n",
      "\n",
      "Please enter the city you want to visit:\n",
      "(Enter 'quit' when you are finished.)new york\n",
      "You want to go to New York\n",
      "\n",
      "Please enter the city you want to visit:\n",
      "(Enter 'quit' when you are finished.)quit\n"
     ]
    }
   ],
   "source": [
    "# break\n",
    "prompt = \"\\nPlease enter the city you want to visit:\"\n",
    "prompt += \"\\n(Enter 'quit' when you are finished.)\"\n",
    "\n",
    "while True:\n",
    "    city = input(prompt)\n",
    "    if city == 'quit':\n",
    "        break\n",
    "    else:\n",
    "        print(\"You want to go to\", city.title())"
   ]
  },
  {
   "cell_type": "code",
   "execution_count": 10,
   "id": "05961ba4",
   "metadata": {},
   "outputs": [
    {
     "data": {
      "text/plain": [
       "['Andy', 'Bob', 'Charlie']"
      ]
     },
     "execution_count": 10,
     "metadata": {},
     "output_type": "execute_result"
    }
   ],
   "source": [
    "# 列表之间移动元素\n",
    "unconfirmed_users = ['charlie', 'bob', 'andy']\n",
    "confirmed_users = []\n",
    "while unconfirmed_users:\n",
    "    confirmed_user = unconfirmed_users.pop()\n",
    "    confirmed_users.append(confirmed_user.title())\n",
    "    \n",
    "confirmed_users"
   ]
  },
  {
   "cell_type": "code",
   "execution_count": null,
   "id": "63834e1d",
   "metadata": {},
   "outputs": [],
   "source": []
  }
 ],
 "metadata": {
  "kernelspec": {
   "display_name": "Python 3",
   "language": "python",
   "name": "python3"
  },
  "language_info": {
   "codemirror_mode": {
    "name": "ipython",
    "version": 3
   },
   "file_extension": ".py",
   "mimetype": "text/x-python",
   "name": "python",
   "nbconvert_exporter": "python",
   "pygments_lexer": "ipython3",
   "version": "3.8.8"
  }
 },
 "nbformat": 4,
 "nbformat_minor": 5
}
