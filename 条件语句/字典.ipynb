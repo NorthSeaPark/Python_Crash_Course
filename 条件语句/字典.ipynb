{
 "cells": [
  {
   "cell_type": "code",
   "execution_count": 1,
   "id": "2ee0f941",
   "metadata": {},
   "outputs": [
    {
     "name": "stdout",
     "output_type": "stream",
     "text": [
      "Original x_position: 0\n"
     ]
    }
   ],
   "source": [
    "alien_0 = {'x_position' : 0, 'y_position':25, 'speed': 'medium'}\n",
    "print(f\"Original x_position: {alien_0['x_position']}\")"
   ]
  },
  {
   "cell_type": "code",
   "execution_count": 3,
   "id": "dd640e84",
   "metadata": {},
   "outputs": [],
   "source": [
    "if alien_0['speed'] == 'slow':\n",
    "    x_increment = 1\n",
    "elif alien_0['speed'] == 'medium':\n",
    "    x_increment = 2\n",
    "elif alien_0['speed'] == 'fast':\n",
    "    x_increment = 3\n",
    "    \n",
    "alien_0['x_position'] += x_increment"
   ]
  },
  {
   "cell_type": "code",
   "execution_count": 4,
   "id": "e6f92552",
   "metadata": {},
   "outputs": [
    {
     "name": "stdout",
     "output_type": "stream",
     "text": [
      "New x_position: 2\n"
     ]
    }
   ],
   "source": [
    "print(f\"New x_position: {alien_0['x_position']}\")"
   ]
  },
  {
   "cell_type": "code",
   "execution_count": 5,
   "id": "b92e1da5",
   "metadata": {},
   "outputs": [
    {
     "name": "stdout",
     "output_type": "stream",
     "text": [
      "No point values assigned.\n"
     ]
    }
   ],
   "source": [
    "alien_0 = {'x_position' : 0, 'y_position':25, 'speed': 'medium'}\n",
    "point_value = alien_0.get('points', 'No point values assigned.')\n",
    "print(point_value)"
   ]
  },
  {
   "cell_type": "code",
   "execution_count": 8,
   "id": "d5cc8f87",
   "metadata": {},
   "outputs": [],
   "source": [
    "favorite_languages = {\n",
    "    'Charlie' : 'python',\n",
    "    'Bob' : 'c',\n",
    "    'Mike' : 'Ruby',\n",
    "    'Lily' : 'python'\n",
    "}"
   ]
  },
  {
   "cell_type": "code",
   "execution_count": 9,
   "id": "96c3bcb3",
   "metadata": {},
   "outputs": [
    {
     "name": "stdout",
     "output_type": "stream",
     "text": [
      "The languages have been mentioned are: \n",
      "Python\n",
      "C\n",
      "Ruby\n"
     ]
    }
   ],
   "source": [
    "print(\"The languages have been mentioned are: \")\n",
    "for language in set(favorite_languages.values()):\n",
    "    print(language.title())"
   ]
  },
  {
   "cell_type": "code",
   "execution_count": 11,
   "id": "8b09e946",
   "metadata": {},
   "outputs": [],
   "source": [
    "# 嵌套——字典里放字典\n",
    "users = {\n",
    "    'Charlie' : {\n",
    "        'Gender':'male',\n",
    "        'Height': 180,\n",
    "        'Location':'beijing',\n",
    "    },\n",
    "    'Lily' : {\n",
    "        'Gender':'female',\n",
    "        'Height': 173,\n",
    "        'Location':'shanghai',\n",
    "    },\n",
    "}"
   ]
  },
  {
   "cell_type": "code",
   "execution_count": 14,
   "id": "dc873f08",
   "metadata": {},
   "outputs": [
    {
     "name": "stdout",
     "output_type": "stream",
     "text": [
      "\n",
      "Username: Charlie\n",
      "\t A Male\n",
      "\t In Beijing\n",
      "\n",
      "Username: Lily\n",
      "\t A Female\n",
      "\t In Shanghai\n"
     ]
    }
   ],
   "source": [
    "for username, user_info in users.items():\n",
    "    print(\"\\nUsername:\", username)\n",
    "    gender = user_info['Gender'].title()\n",
    "    location = user_info['Location'].title()\n",
    "    print(\"\\t A\", gender)\n",
    "    print(\"\\t In\", location)"
   ]
  },
  {
   "cell_type": "code",
   "execution_count": null,
   "id": "d2892b03",
   "metadata": {},
   "outputs": [],
   "source": []
  }
 ],
 "metadata": {
  "kernelspec": {
   "display_name": "Python 3",
   "language": "python",
   "name": "python3"
  },
  "language_info": {
   "codemirror_mode": {
    "name": "ipython",
    "version": 3
   },
   "file_extension": ".py",
   "mimetype": "text/x-python",
   "name": "python",
   "nbconvert_exporter": "python",
   "pygments_lexer": "ipython3",
   "version": "3.8.8"
  }
 },
 "nbformat": 4,
 "nbformat_minor": 5
}
